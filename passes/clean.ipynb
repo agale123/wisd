{
 "cells": [
  {
   "cell_type": "code",
   "execution_count": 1,
   "metadata": {},
   "outputs": [],
   "source": [
    "from statsbombpy import sb\n",
    "import pandas as pd"
   ]
  },
  {
   "cell_type": "code",
   "execution_count": 2,
   "metadata": {},
   "outputs": [
    {
     "name": "stderr",
     "output_type": "stream",
     "text": [
      "/home/agale/.local/lib/python3.8/site-packages/statsbombpy/api_client.py:20: NoAuthWarning: credentials were not supplied. open data access only\n",
      "  warnings.warn(\"credentials were not supplied. open data access only\", NoAuthWarning)\n"
     ]
    }
   ],
   "source": [
    "flat_events = sb.events(match_id=3795107, split=True, flatten_attrs=False)\n",
    "passes = pd.DataFrame(flat_events['passes'])"
   ]
  },
  {
   "cell_type": "code",
   "execution_count": 3,
   "metadata": {},
   "outputs": [],
   "source": [
    "passes['outcome'] = [p['outcome']['name'] if 'outcome' in p else 'Complete' for p in passes['pass']]\n",
    "passes['recipient_id'] = [p['recipient']['id'] if 'recipient' in p else None for p in passes['pass']]\n",
    "passes['recipient_name'] = [p['recipient']['name'] if 'recipient' in p else None for p in passes['pass']]\n",
    "passes['location_end'] = [p['end_location'] if 'end_location' in p else None for p in passes['pass']]\n",
    "passes['height'] = [p['height']['name'] if 'height' in p else None for p in passes['pass']]\n",
    "passes['type'] = [p['type']['name'] if 'type' in p else None for p in passes['pass']]\n",
    "passes['body_part'] = [p['body_part']['name'] if 'body_part' in p else None for p in passes['pass']]\n",
    "passes['location_x'] = [p[0] for p in passes['location']]\n",
    "passes['location_y'] = [p[1] for p in passes['location']]\n",
    "passes['location_end_x'] = [p[0] for p in passes['location_end']]\n",
    "passes['location_end_y'] = [p[1] for p in passes['location_end']]"
   ]
  },
  {
   "cell_type": "code",
   "execution_count": 4,
   "metadata": {},
   "outputs": [
    {
     "data": {
      "text/plain": [
       "[{'recipient': {'id': 5642, 'name': 'Axel Witsel'},\n",
       "  'length': 6.87968,\n",
       "  'angle': -2.5737486,\n",
       "  'height': {'id': 1, 'name': 'Ground Pass'},\n",
       "  'end_location': [54.2, 36.3],\n",
       "  'type': {'id': 65, 'name': 'Kick Off'},\n",
       "  'body_part': {'id': 40, 'name': 'Right Foot'}},\n",
       " {'recipient': {'id': 3077, 'name': 'Jan Vertonghen'},\n",
       "  'length': 23.700844,\n",
       "  'angle': -2.3890185,\n",
       "  'height': {'id': 1, 'name': 'Ground Pass'},\n",
       "  'end_location': [34.1, 17.5],\n",
       "  'body_part': {'id': 40, 'name': 'Right Foot'}},\n",
       " {'recipient': {'id': 5632, 'name': 'Thorgan Hazard'},\n",
       "  'length': 15.401948,\n",
       "  'angle': -1.0170146,\n",
       "  'height': {'id': 1, 'name': 'Ground Pass'},\n",
       "  'end_location': [41.1, 1.6],\n",
       "  'body_part': {'id': 38, 'name': 'Left Foot'}},\n",
       " {'recipient': {'id': 3509, 'name': 'Thibaut Courtois'},\n",
       "  'length': 42.694847,\n",
       "  'angle': 2.407559,\n",
       "  'height': {'id': 1, 'name': 'Ground Pass'},\n",
       "  'end_location': [5.4, 30.9],\n",
       "  'body_part': {'id': 40, 'name': 'Right Foot'}},\n",
       " {'recipient': {'id': 20005, 'name': 'Toby Alderweireld'},\n",
       "  'length': 19.204426,\n",
       "  'angle': 1.4664645,\n",
       "  'height': {'id': 1, 'name': 'Ground Pass'},\n",
       "  'end_location': [9.5, 51.3],\n",
       "  'body_part': {'id': 38, 'name': 'Left Foot'}}]"
      ]
     },
     "execution_count": 4,
     "metadata": {},
     "output_type": "execute_result"
    }
   ],
   "source": [
    "[p for p in passes['pass']][0:5]"
   ]
  },
  {
   "cell_type": "code",
   "execution_count": 5,
   "metadata": {},
   "outputs": [
    {
     "data": {
      "text/plain": [
       "id                                 474c5607-72d6-4d59-889f-5724d4698f48\n",
       "index                                                                 5\n",
       "period                                                                1\n",
       "timestamp                                                  00:00:01.215\n",
       "minute                                                                0\n",
       "second                                                                1\n",
       "type                                                           Kick Off\n",
       "possession                                                            2\n",
       "possession_team                                                 Belgium\n",
       "play_pattern                                              From Kick Off\n",
       "team                                                            Belgium\n",
       "player                                             Romelu Lukaku Menama\n",
       "position                                                 Center Forward\n",
       "location                                                   [60.0, 40.0]\n",
       "duration                                                        0.75632\n",
       "related_events                   [8b86747e-8a9b-4fdc-853b-81c4226a61ad]\n",
       "pass                  {'recipient': {'id': 5642, 'name': 'Axel Witse...\n",
       "match_id                                                        3795107\n",
       "possession_team_id                                                  782\n",
       "player_id                                                          3289\n",
       "under_pressure                                                      NaN\n",
       "off_camera                                                          NaN\n",
       "counterpress                                                        NaN\n",
       "outcome                                                        Complete\n",
       "recipient_id                                                       5642\n",
       "recipient_name                                              Axel Witsel\n",
       "location_end                                               [54.2, 36.3]\n",
       "height                                                      Ground Pass\n",
       "body_part                                                    Right Foot\n",
       "location_x                                                           60\n",
       "location_y                                                           40\n",
       "location_end_x                                                     54.2\n",
       "location_end_y                                                     36.3\n",
       "Name: 0, dtype: object"
      ]
     },
     "execution_count": 5,
     "metadata": {},
     "output_type": "execute_result"
    }
   ],
   "source": [
    "passes.iloc[0]"
   ]
  },
  {
   "cell_type": "code",
   "execution_count": 6,
   "metadata": {},
   "outputs": [
    {
     "data": {
      "text/plain": [
       "{'recipient': {'id': 5642, 'name': 'Axel Witsel'},\n",
       " 'length': 6.87968,\n",
       " 'angle': -2.5737486,\n",
       " 'height': {'id': 1, 'name': 'Ground Pass'},\n",
       " 'end_location': [54.2, 36.3],\n",
       " 'type': {'id': 65, 'name': 'Kick Off'},\n",
       " 'body_part': {'id': 40, 'name': 'Right Foot'}}"
      ]
     },
     "execution_count": 6,
     "metadata": {},
     "output_type": "execute_result"
    }
   ],
   "source": [
    "passes.iloc[0]['pass']"
   ]
  },
  {
   "cell_type": "code",
   "execution_count": 7,
   "metadata": {},
   "outputs": [],
   "source": [
    "passes = passes.drop(columns=['related_events', 'pass', 'location', 'location_end'])"
   ]
  },
  {
   "cell_type": "code",
   "execution_count": 8,
   "metadata": {},
   "outputs": [],
   "source": [
    "passes.to_csv('passes.csv', index=False)"
   ]
  },
  {
   "cell_type": "code",
   "execution_count": null,
   "metadata": {},
   "outputs": [],
   "source": []
  }
 ],
 "metadata": {
  "kernelspec": {
   "display_name": "Python 3",
   "language": "python",
   "name": "python3"
  },
  "language_info": {
   "codemirror_mode": {
    "name": "ipython",
    "version": 3
   },
   "file_extension": ".py",
   "mimetype": "text/x-python",
   "name": "python",
   "nbconvert_exporter": "python",
   "pygments_lexer": "ipython3",
   "version": "3.8.2"
  }
 },
 "nbformat": 4,
 "nbformat_minor": 4
}
