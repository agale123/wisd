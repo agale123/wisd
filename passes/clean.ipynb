{
 "cells": [
  {
   "cell_type": "code",
   "execution_count": 11,
   "metadata": {},
   "outputs": [],
   "source": [
    "from statsbombpy import sb\n",
    "import pandas as pd"
   ]
  },
  {
   "cell_type": "code",
   "execution_count": 12,
   "metadata": {},
   "outputs": [],
   "source": [
    "flat_events = sb.events(match_id=3795107, split=True, flatten_attrs=False)\n",
    "passes = pd.DataFrame(flat_events['passes'])"
   ]
  },
  {
   "cell_type": "code",
   "execution_count": 13,
   "metadata": {},
   "outputs": [],
   "source": [
    "passes['outcome'] = [p['outcome']['name'] if 'outcome' in p else 'Complete' for p in passes['pass']]\n",
    "passes['recipient_id'] = [p['recipient']['id'] if 'recipient' in p else None for p in passes['pass']]\n",
    "passes['recipient_name'] = [p['recipient']['name'] if 'recipient' in p else None for p in passes['pass']]\n",
    "passes['location_end'] = [p['end_location'] if 'end_location' in p else None for p in passes['pass']]\n",
    "passes['height'] = [p['height']['name'] if 'height' in p else None for p in passes['pass']]\n",
    "passes['type'] = [p['type']['name'] if 'type' in p else None for p in passes['pass']]\n",
    "passes['body_part'] = [p['body_part']['name'] if 'body_part' in p else None for p in passes['pass']]\n",
    "passes['location_x'] = [p[0] for p in passes['location']]\n",
    "passes['location_y'] = [p[1] for p in passes['location']]\n",
    "passes['location_end_x'] = [p[0] for p in passes['location_end']]\n",
    "passes['location_end_y'] = [p[1] for p in passes['location_end']]"
   ]
  },
  {
   "cell_type": "code",
   "execution_count": 14,
   "metadata": {},
   "outputs": [
    {
     "data": {
      "text/plain": [
       "[{'recipient': {'id': 5642, 'name': 'Axel Witsel'},\n",
       "  'length': 6.87968,\n",
       "  'angle': -2.5737486,\n",
       "  'height': {'id': 1, 'name': 'Ground Pass'},\n",
       "  'end_location': [54.2, 36.3],\n",
       "  'type': {'id': 65, 'name': 'Kick Off'},\n",
       "  'body_part': {'id': 40, 'name': 'Right Foot'}},\n",
       " {'recipient': {'id': 3077, 'name': 'Jan Vertonghen'},\n",
       "  'length': 23.700844,\n",
       "  'angle': -2.3890185,\n",
       "  'height': {'id': 1, 'name': 'Ground Pass'},\n",
       "  'end_location': [34.1, 17.5],\n",
       "  'body_part': {'id': 40, 'name': 'Right Foot'}},\n",
       " {'recipient': {'id': 5632, 'name': 'Thorgan Hazard'},\n",
       "  'length': 15.401948,\n",
       "  'angle': -1.0170146,\n",
       "  'height': {'id': 1, 'name': 'Ground Pass'},\n",
       "  'end_location': [41.1, 1.6],\n",
       "  'body_part': {'id': 38, 'name': 'Left Foot'}},\n",
       " {'recipient': {'id': 3509, 'name': 'Thibaut Courtois'},\n",
       "  'length': 42.694847,\n",
       "  'angle': 2.407559,\n",
       "  'height': {'id': 1, 'name': 'Ground Pass'},\n",
       "  'end_location': [5.4, 30.9],\n",
       "  'body_part': {'id': 40, 'name': 'Right Foot'}},\n",
       " {'recipient': {'id': 20005, 'name': 'Toby Alderweireld'},\n",
       "  'length': 19.204426,\n",
       "  'angle': 1.4664645,\n",
       "  'height': {'id': 1, 'name': 'Ground Pass'},\n",
       "  'end_location': [9.5, 51.3],\n",
       "  'body_part': {'id': 38, 'name': 'Left Foot'}}]"
      ]
     },
     "execution_count": 14,
     "metadata": {},
     "output_type": "execute_result"
    }
   ],
   "source": [
    "[p for p in passes['pass']][0:5]"
   ]
  },
  {
   "cell_type": "code",
   "execution_count": 15,
   "metadata": {},
   "outputs": [
    {
     "data": {
      "text/plain": [
       "id                                 474c5607-72d6-4d59-889f-5724d4698f48\n",
       "index                                                                 5\n",
       "period                                                                1\n",
       "timestamp                                                  00:00:01.215\n",
       "minute                                                                0\n",
       "second                                                                1\n",
       "type                                                           Kick Off\n",
       "possession                                                            2\n",
       "possession_team                                                 Belgium\n",
       "play_pattern                                              From Kick Off\n",
       "team                                                            Belgium\n",
       "player                                             Romelu Lukaku Menama\n",
       "position                                                 Center Forward\n",
       "location                                                   [60.0, 40.0]\n",
       "duration                                                        0.75632\n",
       "related_events                   [8b86747e-8a9b-4fdc-853b-81c4226a61ad]\n",
       "pass                  {'recipient': {'id': 5642, 'name': 'Axel Witse...\n",
       "match_id                                                        3795107\n",
       "possession_team_id                                                  782\n",
       "player_id                                                          3289\n",
       "under_pressure                                                      NaN\n",
       "off_camera                                                          NaN\n",
       "counterpress                                                        NaN\n",
       "outcome                                                        Complete\n",
       "recipient_id                                                       5642\n",
       "recipient_name                                              Axel Witsel\n",
       "location_end                                               [54.2, 36.3]\n",
       "height                                                      Ground Pass\n",
       "body_part                                                    Right Foot\n",
       "location_x                                                           60\n",
       "location_y                                                           40\n",
       "location_end_x                                                     54.2\n",
       "location_end_y                                                     36.3\n",
       "Name: 0, dtype: object"
      ]
     },
     "execution_count": 15,
     "metadata": {},
     "output_type": "execute_result"
    }
   ],
   "source": [
    "passes.iloc[0]"
   ]
  },
  {
   "cell_type": "code",
   "execution_count": 16,
   "metadata": {},
   "outputs": [
    {
     "data": {
      "text/plain": [
       "{'recipient': {'id': 5642, 'name': 'Axel Witsel'},\n",
       " 'length': 6.87968,\n",
       " 'angle': -2.5737486,\n",
       " 'height': {'id': 1, 'name': 'Ground Pass'},\n",
       " 'end_location': [54.2, 36.3],\n",
       " 'type': {'id': 65, 'name': 'Kick Off'},\n",
       " 'body_part': {'id': 40, 'name': 'Right Foot'}}"
      ]
     },
     "execution_count": 16,
     "metadata": {},
     "output_type": "execute_result"
    }
   ],
   "source": [
    "passes.iloc[0]['pass']"
   ]
  },
  {
   "cell_type": "code",
   "execution_count": 17,
   "metadata": {},
   "outputs": [],
   "source": [
    "# Omit columns we don't care about\n",
    "passes = passes.drop(columns=[\n",
    "    'related_events',\n",
    "    'pass',\n",
    "    'location',\n",
    "    'location_end',\n",
    "    'timestamp',\n",
    "    'second',\n",
    "    'possession_team_id',\n",
    "    'possession_team'\n",
    "])"
   ]
  },
  {
   "cell_type": "code",
   "execution_count": 18,
   "metadata": {},
   "outputs": [],
   "source": [
    "# Convert recipient id to int so it gets written to csv correctly\n",
    "passes = passes.astype({'recipient_id': 'Int64'})"
   ]
  },
  {
   "cell_type": "code",
   "execution_count": 19,
   "metadata": {},
   "outputs": [],
   "source": [
    "# Get 360 frames\n",
    "frames = sb.competition_frames(\n",
    "    country=\"Europe\",\n",
    "    division= \"UEFA Euro\",\n",
    "    season=\"2020\"\n",
    ")"
   ]
  },
  {
   "cell_type": "code",
   "execution_count": 20,
   "metadata": {},
   "outputs": [
    {
     "data": {
      "text/html": [
       "<div>\n",
       "<style scoped>\n",
       "    .dataframe tbody tr th:only-of-type {\n",
       "        vertical-align: middle;\n",
       "    }\n",
       "\n",
       "    .dataframe tbody tr th {\n",
       "        vertical-align: top;\n",
       "    }\n",
       "\n",
       "    .dataframe thead th {\n",
       "        text-align: right;\n",
       "    }\n",
       "</style>\n",
       "<table border=\"1\" class=\"dataframe\">\n",
       "  <thead>\n",
       "    <tr style=\"text-align: right;\">\n",
       "      <th></th>\n",
       "      <th>event_uuid</th>\n",
       "      <th>freeze_frame</th>\n",
       "      <th>match_id</th>\n",
       "    </tr>\n",
       "  </thead>\n",
       "  <tbody>\n",
       "    <tr>\n",
       "      <th>6654</th>\n",
       "      <td>474c5607-72d6-4d59-889f-5724d4698f48</td>\n",
       "      <td>[{'teammate': True, 'actor': False, 'keeper': ...</td>\n",
       "      <td>3795107</td>\n",
       "    </tr>\n",
       "    <tr>\n",
       "      <th>6655</th>\n",
       "      <td>8b86747e-8a9b-4fdc-853b-81c4226a61ad</td>\n",
       "      <td>[{'teammate': True, 'actor': False, 'keeper': ...</td>\n",
       "      <td>3795107</td>\n",
       "    </tr>\n",
       "    <tr>\n",
       "      <th>6656</th>\n",
       "      <td>283cd6e0-bd36-44f8-b8bb-5f4cfeec9850</td>\n",
       "      <td>[{'teammate': True, 'actor': False, 'keeper': ...</td>\n",
       "      <td>3795107</td>\n",
       "    </tr>\n",
       "    <tr>\n",
       "      <th>6657</th>\n",
       "      <td>d321c735-f50a-47ce-bcb5-3e28a48e6e09</td>\n",
       "      <td>[{'teammate': True, 'actor': False, 'keeper': ...</td>\n",
       "      <td>3795107</td>\n",
       "    </tr>\n",
       "    <tr>\n",
       "      <th>6658</th>\n",
       "      <td>655fe363-2574-455e-8e8d-1bdd88964f28</td>\n",
       "      <td>[{'teammate': True, 'actor': False, 'keeper': ...</td>\n",
       "      <td>3795107</td>\n",
       "    </tr>\n",
       "    <tr>\n",
       "      <th>...</th>\n",
       "      <td>...</td>\n",
       "      <td>...</td>\n",
       "      <td>...</td>\n",
       "    </tr>\n",
       "    <tr>\n",
       "      <th>9809</th>\n",
       "      <td>8b5d9f82-7c7e-42df-b0fa-959f3740dc5e</td>\n",
       "      <td>[{'teammate': True, 'actor': False, 'keeper': ...</td>\n",
       "      <td>3795107</td>\n",
       "    </tr>\n",
       "    <tr>\n",
       "      <th>9810</th>\n",
       "      <td>5d4ca016-8d47-47c1-9855-03a7c0d2f5cb</td>\n",
       "      <td>[{'teammate': False, 'actor': False, 'keeper':...</td>\n",
       "      <td>3795107</td>\n",
       "    </tr>\n",
       "    <tr>\n",
       "      <th>9811</th>\n",
       "      <td>d018c006-2413-45dd-b453-a8d4e64b3b60</td>\n",
       "      <td>[{'teammate': False, 'actor': False, 'keeper':...</td>\n",
       "      <td>3795107</td>\n",
       "    </tr>\n",
       "    <tr>\n",
       "      <th>9812</th>\n",
       "      <td>9257d9ca-ae9b-40cf-8d72-fd40c5d4e785</td>\n",
       "      <td>[{'teammate': True, 'actor': False, 'keeper': ...</td>\n",
       "      <td>3795107</td>\n",
       "    </tr>\n",
       "    <tr>\n",
       "      <th>9813</th>\n",
       "      <td>9d4a1aab-2dbc-42cf-8d1e-f2792af3979a</td>\n",
       "      <td>[{'teammate': False, 'actor': False, 'keeper':...</td>\n",
       "      <td>3795107</td>\n",
       "    </tr>\n",
       "  </tbody>\n",
       "</table>\n",
       "<p>3160 rows × 3 columns</p>\n",
       "</div>"
      ],
      "text/plain": [
       "                                event_uuid  \\\n",
       "6654  474c5607-72d6-4d59-889f-5724d4698f48   \n",
       "6655  8b86747e-8a9b-4fdc-853b-81c4226a61ad   \n",
       "6656  283cd6e0-bd36-44f8-b8bb-5f4cfeec9850   \n",
       "6657  d321c735-f50a-47ce-bcb5-3e28a48e6e09   \n",
       "6658  655fe363-2574-455e-8e8d-1bdd88964f28   \n",
       "...                                    ...   \n",
       "9809  8b5d9f82-7c7e-42df-b0fa-959f3740dc5e   \n",
       "9810  5d4ca016-8d47-47c1-9855-03a7c0d2f5cb   \n",
       "9811  d018c006-2413-45dd-b453-a8d4e64b3b60   \n",
       "9812  9257d9ca-ae9b-40cf-8d72-fd40c5d4e785   \n",
       "9813  9d4a1aab-2dbc-42cf-8d1e-f2792af3979a   \n",
       "\n",
       "                                           freeze_frame  match_id  \n",
       "6654  [{'teammate': True, 'actor': False, 'keeper': ...   3795107  \n",
       "6655  [{'teammate': True, 'actor': False, 'keeper': ...   3795107  \n",
       "6656  [{'teammate': True, 'actor': False, 'keeper': ...   3795107  \n",
       "6657  [{'teammate': True, 'actor': False, 'keeper': ...   3795107  \n",
       "6658  [{'teammate': True, 'actor': False, 'keeper': ...   3795107  \n",
       "...                                                 ...       ...  \n",
       "9809  [{'teammate': True, 'actor': False, 'keeper': ...   3795107  \n",
       "9810  [{'teammate': False, 'actor': False, 'keeper':...   3795107  \n",
       "9811  [{'teammate': False, 'actor': False, 'keeper':...   3795107  \n",
       "9812  [{'teammate': True, 'actor': False, 'keeper': ...   3795107  \n",
       "9813  [{'teammate': False, 'actor': False, 'keeper':...   3795107  \n",
       "\n",
       "[3160 rows x 3 columns]"
      ]
     },
     "execution_count": 20,
     "metadata": {},
     "output_type": "execute_result"
    }
   ],
   "source": [
    "frames = frames[frames[\"match_id\"] == 3795107]\n",
    "frames = frames.drop(columns=[\"visible_area\"])\n",
    "frames"
   ]
  },
  {
   "cell_type": "code",
   "execution_count": 57,
   "metadata": {},
   "outputs": [],
   "source": [
    "# Use frames data to update location_x and location_y in passes\n",
    "frames.iloc[1]['event_uuid']\n",
    "for (_, frame) in frames.iterrows():\n",
    "    uuid = frame['event_uuid']\n",
    "    freeze = frame['freeze_frame']\n",
    "    actor = next((x for x in freeze if x['actor']), None)\n",
    "    location = actor['location']\n",
    "    row = passes.index[passes['id'] == uuid]\n",
    "    if len(row) > 0:\n",
    "        passes.iat[row[0], passes.columns.get_loc('location_x')] = location[0]\n",
    "        passes.iat[row[0], passes.columns.get_loc('location_y')] = location[1]"
   ]
  },
  {
   "cell_type": "code",
   "execution_count": 58,
   "metadata": {},
   "outputs": [],
   "source": [
    "# Write to csv\n",
    "frames.to_csv('data/frames.csv', index=False)\n",
    "passes.to_csv('data/passes.csv', index=False)"
   ]
  },
  {
   "cell_type": "code",
   "execution_count": null,
   "metadata": {},
   "outputs": [],
   "source": []
  }
 ],
 "metadata": {
  "kernelspec": {
   "display_name": "Python 3",
   "language": "python",
   "name": "python3"
  },
  "language_info": {
   "codemirror_mode": {
    "name": "ipython",
    "version": 3
   },
   "file_extension": ".py",
   "mimetype": "text/x-python",
   "name": "python",
   "nbconvert_exporter": "python",
   "pygments_lexer": "ipython3",
   "version": "3.8.2"
  }
 },
 "nbformat": 4,
 "nbformat_minor": 4
}
