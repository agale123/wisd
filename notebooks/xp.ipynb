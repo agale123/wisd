{
 "cells": [
  {
   "cell_type": "code",
   "execution_count": 1,
   "metadata": {},
   "outputs": [],
   "source": [
    "from statsbombpy import sb\n",
    "import pandas as pd\n",
    "import numpy as np\n",
    "from sklearn.model_selection import train_test_split\n",
    "from sklearn.ensemble import GradientBoostingClassifier\n",
    "from sklearn.preprocessing import OneHotEncoder\n",
    "from sklearn.compose import make_column_transformer\n",
    "from sklearn.metrics import confusion_matrix\n",
    "import math\n",
    "import xp_clean\n",
    "from joblib import dump"
   ]
  },
  {
   "cell_type": "code",
   "execution_count": 2,
   "metadata": {},
   "outputs": [
    {
     "name": "stderr",
     "output_type": "stream",
     "text": [
      "/home/agale/.local/lib/python3.8/site-packages/statsbombpy/api_client.py:20: NoAuthWarning: credentials were not supplied. open data access only\n",
      "  warnings.warn(\"credentials were not supplied. open data access only\", NoAuthWarning)\n"
     ]
    }
   ],
   "source": [
    "# Read the raw data for all the Euros\n",
    "raw_events = sb.competition_events(\n",
    "    country=\"Europe\",\n",
    "    division= \"UEFA Euro\",\n",
    "    season=\"2020\",\n",
    "    split=True\n",
    ")\n",
    "raw_frames = sb.competition_frames(\n",
    "    country=\"Europe\",\n",
    "    division= \"UEFA Euro\",\n",
    "    season=\"2020\"\n",
    ")"
   ]
  },
  {
   "cell_type": "code",
   "execution_count": 3,
   "metadata": {
    "scrolled": false
   },
   "outputs": [],
   "source": [
    "# Convert to data frame\n",
    "events = pd.DataFrame(raw_events['passes'])\n",
    "frames = pd.DataFrame(raw_frames)\n",
    "# Join tables\n",
    "frames_subset = frames.rename(columns={'event_uuid': 'id'}).drop(columns=['match_id', 'visible_area'])\n",
    "events = events.join(frames_subset.set_index('id'), on='id', how='left')"
   ]
  },
  {
   "cell_type": "code",
   "execution_count": 4,
   "metadata": {},
   "outputs": [
    {
     "data": {
      "text/plain": [
       "Index(['id', 'index', 'period', 'timestamp', 'minute', 'second', 'type',\n",
       "       'possession', 'possession_team', 'play_pattern', 'team', 'player',\n",
       "       'position', 'location', 'duration', 'related_events', 'match_id',\n",
       "       'pass_recipient', 'pass_length', 'pass_angle', 'pass_height',\n",
       "       'pass_end_location', 'pass_body_part', 'pass_type',\n",
       "       'possession_team_id', 'player_id', 'under_pressure', 'pass_aerial_won',\n",
       "       'pass_outcome', 'pass_outswinging', 'pass_technique', 'pass_switch',\n",
       "       'off_camera', 'pass_cross', 'pass_no_touch', 'pass_assisted_shot_id',\n",
       "       'pass_shot_assist', 'out', 'pass_miscommunication', 'pass_through_ball',\n",
       "       'pass_goal_assist', 'counterpress', 'pass_cut_back', 'pass_straight',\n",
       "       'pass_inswinging', 'pass_deflected', 'freeze_frame'],\n",
       "      dtype='object')"
      ]
     },
     "execution_count": 4,
     "metadata": {},
     "output_type": "execute_result"
    }
   ],
   "source": [
    "# See which columns are available\n",
    "events.columns"
   ]
  },
  {
   "cell_type": "code",
   "execution_count": 5,
   "metadata": {},
   "outputs": [],
   "source": [
    "# Add new features and clean features so they can be used in the model\n",
    "(response, features) = xp_clean.clean_data(events)"
   ]
  },
  {
   "cell_type": "code",
   "execution_count": 7,
   "metadata": {},
   "outputs": [],
   "source": [
    "# Basic classifier just using pass location\n",
    "subset_features = features[['location_x', 'location_y']]\n",
    "x_train, x_test, y_train, y_test = train_test_split(subset_features, response, test_size=1/3, random_state=13)\n",
    "classifier = GradientBoostingClassifier(n_estimators=100, learning_rate=1.0, max_depth=1, random_state=7).fit(x_train, y_train)"
   ]
  },
  {
   "cell_type": "code",
   "execution_count": 8,
   "metadata": {},
   "outputs": [
    {
     "data": {
      "text/plain": [
       "0.8330414796979315"
      ]
     },
     "execution_count": 8,
     "metadata": {},
     "output_type": "execute_result"
    }
   ],
   "source": [
    "# Test accuracy\n",
    "classifier.score(x_test, y_test)"
   ]
  },
  {
   "cell_type": "code",
   "execution_count": 9,
   "metadata": {},
   "outputs": [
    {
     "data": {
      "text/plain": [
       "0.8407760083182838"
      ]
     },
     "execution_count": 9,
     "metadata": {},
     "output_type": "execute_result"
    }
   ],
   "source": [
    "# Train accuracy\n",
    "classifier.score(x_train, y_train)"
   ]
  },
  {
   "cell_type": "code",
   "execution_count": 10,
   "metadata": {},
   "outputs": [
    {
     "data": {
      "text/plain": [
       "array([[  223,  2883],\n",
       "       [  168, 15000]])"
      ]
     },
     "execution_count": 10,
     "metadata": {},
     "output_type": "execute_result"
    }
   ],
   "source": [
    "# Confusion matrix\n",
    "confusion_matrix(y_test, classifier.predict(x_test))"
   ]
  },
  {
   "cell_type": "code",
   "execution_count": 11,
   "metadata": {},
   "outputs": [],
   "source": [
    "# Use Gradient Boosted Decision Tree Classifier on all data\n",
    "x_train, x_test, y_train, y_test = train_test_split(features, response, test_size=1/3, random_state=13)\n",
    "classifier = GradientBoostingClassifier(n_estimators=100, learning_rate=1.0, max_depth=1, random_state=7).fit(x_train, y_train)"
   ]
  },
  {
   "cell_type": "code",
   "execution_count": 12,
   "metadata": {},
   "outputs": [
    {
     "data": {
      "text/plain": [
       "0.8913210025172376"
      ]
     },
     "execution_count": 12,
     "metadata": {},
     "output_type": "execute_result"
    }
   ],
   "source": [
    "# Test accuracy\n",
    "classifier.score(x_test, y_test)"
   ]
  },
  {
   "cell_type": "code",
   "execution_count": 13,
   "metadata": {},
   "outputs": [
    {
     "data": {
      "text/plain": [
       "0.8962677173972528"
      ]
     },
     "execution_count": 13,
     "metadata": {},
     "output_type": "execute_result"
    }
   ],
   "source": [
    "# Train accuracy\n",
    "classifier.score(x_train, y_train)"
   ]
  },
  {
   "cell_type": "code",
   "execution_count": 14,
   "metadata": {},
   "outputs": [
    {
     "data": {
      "text/plain": [
       "array([[ 1781,  1325],\n",
       "       [  661, 14507]])"
      ]
     },
     "execution_count": 14,
     "metadata": {},
     "output_type": "execute_result"
    }
   ],
   "source": [
    "# Confusion matrix\n",
    "confusion_matrix(y_test, classifier.predict(x_test))"
   ]
  },
  {
   "cell_type": "code",
   "execution_count": 15,
   "metadata": {},
   "outputs": [
    {
     "data": {
      "text/html": [
       "<div>\n",
       "<style scoped>\n",
       "    .dataframe tbody tr th:only-of-type {\n",
       "        vertical-align: middle;\n",
       "    }\n",
       "\n",
       "    .dataframe tbody tr th {\n",
       "        vertical-align: top;\n",
       "    }\n",
       "\n",
       "    .dataframe thead th {\n",
       "        text-align: right;\n",
       "    }\n",
       "</style>\n",
       "<table border=\"1\" class=\"dataframe\">\n",
       "  <thead>\n",
       "    <tr style=\"text-align: right;\">\n",
       "      <th></th>\n",
       "      <th>feature</th>\n",
       "      <th>importance</th>\n",
       "    </tr>\n",
       "  </thead>\n",
       "  <tbody>\n",
       "    <tr>\n",
       "      <th>0</th>\n",
       "      <td>onehotencoder__x0_Back</td>\n",
       "      <td>0.000000</td>\n",
       "    </tr>\n",
       "    <tr>\n",
       "      <th>1</th>\n",
       "      <td>onehotencoder__x0_Forward</td>\n",
       "      <td>0.004045</td>\n",
       "    </tr>\n",
       "    <tr>\n",
       "      <th>2</th>\n",
       "      <td>onehotencoder__x0_Goalkeeper</td>\n",
       "      <td>0.000752</td>\n",
       "    </tr>\n",
       "    <tr>\n",
       "      <th>3</th>\n",
       "      <td>onehotencoder__x0_Midfield</td>\n",
       "      <td>0.001174</td>\n",
       "    </tr>\n",
       "    <tr>\n",
       "      <th>4</th>\n",
       "      <td>onehotencoder__x0_Wing</td>\n",
       "      <td>0.002647</td>\n",
       "    </tr>\n",
       "    <tr>\n",
       "      <th>5</th>\n",
       "      <td>onehotencoder__x0_Wing Back</td>\n",
       "      <td>0.001843</td>\n",
       "    </tr>\n",
       "    <tr>\n",
       "      <th>6</th>\n",
       "      <td>onehotencoder__x1_Ground Pass</td>\n",
       "      <td>0.465839</td>\n",
       "    </tr>\n",
       "    <tr>\n",
       "      <th>7</th>\n",
       "      <td>onehotencoder__x1_High Pass</td>\n",
       "      <td>0.002864</td>\n",
       "    </tr>\n",
       "    <tr>\n",
       "      <th>8</th>\n",
       "      <td>onehotencoder__x1_Low Pass</td>\n",
       "      <td>0.082624</td>\n",
       "    </tr>\n",
       "    <tr>\n",
       "      <th>9</th>\n",
       "      <td>onehotencoder__x2_Drop Kick</td>\n",
       "      <td>0.000000</td>\n",
       "    </tr>\n",
       "    <tr>\n",
       "      <th>10</th>\n",
       "      <td>onehotencoder__x2_Head</td>\n",
       "      <td>0.001720</td>\n",
       "    </tr>\n",
       "    <tr>\n",
       "      <th>11</th>\n",
       "      <td>onehotencoder__x2_Keeper Arm</td>\n",
       "      <td>0.000152</td>\n",
       "    </tr>\n",
       "    <tr>\n",
       "      <th>12</th>\n",
       "      <td>onehotencoder__x2_Left Foot</td>\n",
       "      <td>0.000000</td>\n",
       "    </tr>\n",
       "    <tr>\n",
       "      <th>13</th>\n",
       "      <td>onehotencoder__x2_No Touch</td>\n",
       "      <td>0.000000</td>\n",
       "    </tr>\n",
       "    <tr>\n",
       "      <th>14</th>\n",
       "      <td>onehotencoder__x2_Other</td>\n",
       "      <td>0.000178</td>\n",
       "    </tr>\n",
       "    <tr>\n",
       "      <th>15</th>\n",
       "      <td>onehotencoder__x2_Right Foot</td>\n",
       "      <td>0.000000</td>\n",
       "    </tr>\n",
       "    <tr>\n",
       "      <th>16</th>\n",
       "      <td>location_x</td>\n",
       "      <td>0.036020</td>\n",
       "    </tr>\n",
       "    <tr>\n",
       "      <th>17</th>\n",
       "      <td>location_y</td>\n",
       "      <td>0.002721</td>\n",
       "    </tr>\n",
       "    <tr>\n",
       "      <th>18</th>\n",
       "      <td>duration</td>\n",
       "      <td>0.243640</td>\n",
       "    </tr>\n",
       "    <tr>\n",
       "      <th>19</th>\n",
       "      <td>pass_length</td>\n",
       "      <td>0.012068</td>\n",
       "    </tr>\n",
       "    <tr>\n",
       "      <th>20</th>\n",
       "      <td>pass_angle</td>\n",
       "      <td>0.059824</td>\n",
       "    </tr>\n",
       "    <tr>\n",
       "      <th>21</th>\n",
       "      <td>under_pressure</td>\n",
       "      <td>0.006096</td>\n",
       "    </tr>\n",
       "    <tr>\n",
       "      <th>22</th>\n",
       "      <td>pass_switch</td>\n",
       "      <td>0.013815</td>\n",
       "    </tr>\n",
       "    <tr>\n",
       "      <th>23</th>\n",
       "      <td>pass_cross</td>\n",
       "      <td>0.036257</td>\n",
       "    </tr>\n",
       "    <tr>\n",
       "      <th>24</th>\n",
       "      <td>prior_passes</td>\n",
       "      <td>0.020393</td>\n",
       "    </tr>\n",
       "    <tr>\n",
       "      <th>25</th>\n",
       "      <td>nearby_teammates</td>\n",
       "      <td>0.002380</td>\n",
       "    </tr>\n",
       "    <tr>\n",
       "      <th>26</th>\n",
       "      <td>nearby_opponents</td>\n",
       "      <td>0.002950</td>\n",
       "    </tr>\n",
       "  </tbody>\n",
       "</table>\n",
       "</div>"
      ],
      "text/plain": [
       "                          feature  importance\n",
       "0          onehotencoder__x0_Back    0.000000\n",
       "1       onehotencoder__x0_Forward    0.004045\n",
       "2    onehotencoder__x0_Goalkeeper    0.000752\n",
       "3      onehotencoder__x0_Midfield    0.001174\n",
       "4          onehotencoder__x0_Wing    0.002647\n",
       "5     onehotencoder__x0_Wing Back    0.001843\n",
       "6   onehotencoder__x1_Ground Pass    0.465839\n",
       "7     onehotencoder__x1_High Pass    0.002864\n",
       "8      onehotencoder__x1_Low Pass    0.082624\n",
       "9     onehotencoder__x2_Drop Kick    0.000000\n",
       "10         onehotencoder__x2_Head    0.001720\n",
       "11   onehotencoder__x2_Keeper Arm    0.000152\n",
       "12    onehotencoder__x2_Left Foot    0.000000\n",
       "13     onehotencoder__x2_No Touch    0.000000\n",
       "14        onehotencoder__x2_Other    0.000178\n",
       "15   onehotencoder__x2_Right Foot    0.000000\n",
       "16                     location_x    0.036020\n",
       "17                     location_y    0.002721\n",
       "18                       duration    0.243640\n",
       "19                    pass_length    0.012068\n",
       "20                     pass_angle    0.059824\n",
       "21                 under_pressure    0.006096\n",
       "22                    pass_switch    0.013815\n",
       "23                     pass_cross    0.036257\n",
       "24                   prior_passes    0.020393\n",
       "25               nearby_teammates    0.002380\n",
       "26               nearby_opponents    0.002950"
      ]
     },
     "execution_count": 15,
     "metadata": {},
     "output_type": "execute_result"
    }
   ],
   "source": [
    "# Analyze feature importance\n",
    "pd.DataFrame({'feature': x_train.columns, 'importance': classifier.feature_importances_})"
   ]
  },
  {
   "cell_type": "code",
   "execution_count": 23,
   "metadata": {},
   "outputs": [],
   "source": [
    "# Write likelihoods to csv\n",
    "ind = np.where(classifier.classes_ == True)[0][0]\n",
    "out = pd.DataFrame(raw_events['passes']['id'])\n",
    "out['likelihood'] = classifier.predict_proba(transformed_features)[:, ind]\n",
    "out.to_csv('../web/data/xp.csv', index=False)"
   ]
  },
  {
   "cell_type": "code",
   "execution_count": 60,
   "metadata": {},
   "outputs": [
    {
     "data": {
      "text/plain": [
       "['xp.joblib']"
      ]
     },
     "execution_count": 60,
     "metadata": {},
     "output_type": "execute_result"
    }
   ],
   "source": [
    "# Dump model for use in evaluating other games\n",
    "dump(classifier, 'xp.joblib') "
   ]
  },
  {
   "cell_type": "code",
   "execution_count": null,
   "metadata": {},
   "outputs": [],
   "source": []
  }
 ],
 "metadata": {
  "kernelspec": {
   "display_name": "Python 3",
   "language": "python",
   "name": "python3"
  },
  "language_info": {
   "codemirror_mode": {
    "name": "ipython",
    "version": 3
   },
   "file_extension": ".py",
   "mimetype": "text/x-python",
   "name": "python",
   "nbconvert_exporter": "python",
   "pygments_lexer": "ipython3",
   "version": "3.8.2"
  }
 },
 "nbformat": 4,
 "nbformat_minor": 4
}
